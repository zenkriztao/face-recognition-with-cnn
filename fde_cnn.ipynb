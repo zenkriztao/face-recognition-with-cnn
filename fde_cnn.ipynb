{
  "cells": [
    {
      "cell_type": "code",
      "execution_count": 1,
      "metadata": {
        "colab": {},
        "colab_type": "code",
        "id": "0JyAVtXyB_yN"
      },
      "outputs": [],
      "source": [
        "import pandas as pd\n",
        "import numpy as np\n",
        "import matplotlib.pyplot as plt\n",
        "import os\n",
        "import cv2"
      ]
    },
    {
      "cell_type": "code",
      "execution_count": 2,
      "metadata": {
        "colab": {
          "base_uri": "https://localhost:8080/",
          "height": 34
        },
        "colab_type": "code",
        "id": "nX9OJo78aUsh",
        "outputId": "1562dae3-f9cf-425b-a5f7-fcfcaa262e68"
      },
      "outputs": [
        {
          "data": {
            "text/plain": [
              "'2.12.0-rc1'"
            ]
          },
          "execution_count": 2,
          "metadata": {},
          "output_type": "execute_result"
        }
      ],
      "source": [
        "import tensorflow as tf\n",
        "tf.__version__"
      ]
    },
    {
      "cell_type": "code",
      "execution_count": 3,
      "metadata": {
        "colab": {},
        "colab_type": "code",
        "id": "jlc3AjZ1TWTJ"
      },
      "outputs": [],
      "source": [
        "from tensorflow.keras.layers import Dense,Dropout,Flatten\n",
        "from tensorflow.keras.models import Sequential\n",
        "from tensorflow.keras.preprocessing.image import ImageDataGenerator\n",
        "from tensorflow.keras.layers import Convolution2D\n",
        "from tensorflow.keras.layers import MaxPooling2D"
      ]
    },
    {
      "cell_type": "code",
      "execution_count": 4,
      "metadata": {
        "colab": {},
        "colab_type": "code",
        "id": "vmLMUyvnsxwV"
      },
      "outputs": [],
      "source": [
        "from sklearn.metrics import classification_report"
      ]
    },
    {
      "cell_type": "markdown",
      "metadata": {
        "colab_type": "text",
        "id": "cLcTEE0TbTJj"
      },
      "source": [
        "## Building a CNN Model\n"
      ]
    },
    {
      "cell_type": "code",
      "execution_count": 5,
      "metadata": {
        "colab": {},
        "colab_type": "code",
        "id": "ljvFcTL1auiG"
      },
      "outputs": [],
      "source": [
        "model=Sequential()"
      ]
    },
    {
      "cell_type": "code",
      "execution_count": 6,
      "metadata": {
        "colab": {},
        "colab_type": "code",
        "id": "O35A4Q_2bcPO"
      },
      "outputs": [],
      "source": [
        "model.add(Convolution2D(64,(5,5),input_shape=(48,48,1),activation='relu'))\n",
        "model.add(Convolution2D(64,(5,5),activation='relu'))\n",
        "model.add(MaxPooling2D(pool_size=(2,2)))\n",
        "model.add(Dropout(0.4))\n",
        "model.add(Convolution2D(128,(3,3),activation='relu'))\n",
        "model.add(Convolution2D(128,(3,3),activation='relu'))\n",
        "model.add(MaxPooling2D(pool_size=(2,2)))\n",
        "model.add(Dropout(0.4))\n",
        "model.add(Flatten())\n",
        "model.add(Dense(units=128,activation='relu'))\n",
        "model.add(Dense(units=7,activation='softmax'))"
      ]
    },
    {
      "cell_type": "code",
      "execution_count": 7,
      "metadata": {
        "colab": {
          "base_uri": "https://localhost:8080/",
          "height": 542
        },
        "colab_type": "code",
        "id": "kw3pfdqkfh7y",
        "outputId": "9aedbc77-0100-428a-f37b-6922992b1977"
      },
      "outputs": [
        {
          "name": "stdout",
          "output_type": "stream",
          "text": [
            "Model: \"sequential\"\n",
            "_________________________________________________________________\n",
            " Layer (type)                Output Shape              Param #   \n",
            "=================================================================\n",
            " conv2d (Conv2D)             (None, 44, 44, 64)        1664      \n",
            "                                                                 \n",
            " conv2d_1 (Conv2D)           (None, 40, 40, 64)        102464    \n",
            "                                                                 \n",
            " max_pooling2d (MaxPooling2D  (None, 20, 20, 64)       0         \n",
            " )                                                               \n",
            "                                                                 \n",
            " dropout (Dropout)           (None, 20, 20, 64)        0         \n",
            "                                                                 \n",
            " conv2d_2 (Conv2D)           (None, 18, 18, 128)       73856     \n",
            "                                                                 \n",
            " conv2d_3 (Conv2D)           (None, 16, 16, 128)       147584    \n",
            "                                                                 \n",
            " max_pooling2d_1 (MaxPooling  (None, 8, 8, 128)        0         \n",
            " 2D)                                                             \n",
            "                                                                 \n",
            " dropout_1 (Dropout)         (None, 8, 8, 128)         0         \n",
            "                                                                 \n",
            " flatten (Flatten)           (None, 8192)              0         \n",
            "                                                                 \n",
            " dense (Dense)               (None, 128)               1048704   \n",
            "                                                                 \n",
            " dense_1 (Dense)             (None, 7)                 903       \n",
            "                                                                 \n",
            "=================================================================\n",
            "Total params: 1,375,175\n",
            "Trainable params: 1,375,175\n",
            "Non-trainable params: 0\n",
            "_________________________________________________________________\n"
          ]
        }
      ],
      "source": [
        "model.summary()"
      ]
    },
    {
      "cell_type": "code",
      "execution_count": 35,
      "metadata": {
        "colab": {},
        "colab_type": "code",
        "id": "kzybn_q9kFBz"
      },
      "outputs": [
        {
          "ename": "",
          "evalue": "",
          "output_type": "error",
          "traceback": [
            "\u001b[1;31mThe Kernel crashed while executing code in the the current cell or a previous cell. Please review the code in the cell(s) to identify a possible cause of the failure. Click <a href='https://aka.ms/vscodeJupyterKernelCrash'>here</a> for more info. View Jupyter <a href='command:jupyter.viewOutput'>log</a> for further details."
          ]
        }
      ],
      "source": [
        "model.compile(loss='categorical_crossentropy',optimizer='adam',metrics=['accuracy'])"
      ]
    },
    {
      "cell_type": "markdown",
      "metadata": {
        "colab_type": "text",
        "id": "pga7bfXCC_OJ"
      },
      "source": [
        "## Image Argumentation"
      ]
    },
    {
      "cell_type": "code",
      "execution_count": 10,
      "metadata": {
        "colab": {
          "base_uri": "https://localhost:8080/",
          "height": 52
        },
        "colab_type": "code",
        "id": "K7Ok79-_g0xy",
        "outputId": "d27d2c13-0044-4394-8137-0907ee86bbee"
      },
      "outputs": [
        {
          "name": "stdout",
          "output_type": "stream",
          "text": [
            "Found 35887 images belonging to 7 classes.\n",
            "Found 0 images belonging to 7 classes.\n"
          ]
        }
      ],
      "source": [
        "train_datagen = ImageDataGenerator(\n",
        "        rescale=1./255,\n",
        "        rotation_range=30,\n",
        "        shear_range=0.3,\n",
        "        zoom_range=0.3,\n",
        "        horizontal_flip=False)\n",
        "\n",
        "test_datagen = ImageDataGenerator(rescale=1./255)\n",
        "\n",
        "train_generator = train_datagen.flow_from_directory(\n",
        "        './Image_Generator/Training/',\n",
        "        target_size=(48,48),\n",
        "        batch_size=512,\n",
        "        color_mode=\"grayscale\",\n",
        "        class_mode='categorical')\n",
        "\n",
        "validation_generator = test_datagen.flow_from_directory(\n",
        "        './Image_Generator/Testing/',\n",
        "        target_size=(48,48),\n",
        "        batch_size=512,\n",
        "        color_mode=\"grayscale\",\n",
        "        class_mode='categorical')\n"
      ]
    },
    {
      "cell_type": "code",
      "execution_count": 11,
      "metadata": {
        "colab": {},
        "colab_type": "code",
        "id": "IC3QundqkxHO"
      },
      "outputs": [],
      "source": [
        "filepath = os.path.join(\"./emotion_detector_models/model_v{epoch}.hdf5\")\n",
        "\n",
        "checkpoint = tf.keras.callbacks.ModelCheckpoint(filepath,\n",
        "                                             monitor='val_accuracy',\n",
        "                                             verbose=1,\n",
        "                                             save_best_only=True,\n",
        "                                             mode='max')\n",
        "callbacks = [checkpoint]"
      ]
    },
    {
      "cell_type": "code",
      "execution_count": 12,
      "metadata": {
        "colab": {},
        "colab_type": "code",
        "id": "4vUL74jxl8xg"
      },
      "outputs": [],
      "source": [
        "nb_train_samples = 28709\n",
        "nb_validation_samples = 7178\n",
        "batch_size=512"
      ]
    },
    {
      "cell_type": "code",
      "execution_count": 13,
      "metadata": {
        "colab": {
          "base_uri": "https://localhost:8080/",
          "height": 1000
        },
        "colab_type": "code",
        "id": "e4v11eUkj3jS",
        "outputId": "cd3db206-49ec-4a6a-bac2-5228b631ab56"
      },
      "outputs": [
        {
          "name": "stderr",
          "output_type": "stream",
          "text": [
            "C:\\Users\\62821\\AppData\\Local\\Temp\\ipykernel_22488\\2788044868.py:1: UserWarning: `Model.fit_generator` is deprecated and will be removed in a future version. Please use `Model.fit`, which supports generators.\n",
            "  history=model.fit_generator(\n"
          ]
        },
        {
          "name": "stdout",
          "output_type": "stream",
          "text": [
            "Epoch 1/50\n",
            "56/56 [==============================] - ETA: 0s - loss: 1.8163 - accuracy: 0.2453WARNING:tensorflow:Can save best model only with val_accuracy available, skipping.\n",
            "56/56 [==============================] - 402s 7s/step - loss: 1.8163 - accuracy: 0.2453\n",
            "Epoch 2/50\n",
            "56/56 [==============================] - ETA: 0s - loss: 1.7644 - accuracy: 0.2676WARNING:tensorflow:Can save best model only with val_accuracy available, skipping.\n",
            "56/56 [==============================] - 334s 6s/step - loss: 1.7644 - accuracy: 0.2676\n",
            "Epoch 3/50\n",
            "56/56 [==============================] - ETA: 0s - loss: 1.7259 - accuracy: 0.3016WARNING:tensorflow:Can save best model only with val_accuracy available, skipping.\n",
            "56/56 [==============================] - 268s 5s/step - loss: 1.7259 - accuracy: 0.3016\n",
            "Epoch 4/50\n",
            "56/56 [==============================] - ETA: 0s - loss: 1.6887 - accuracy: 0.3288WARNING:tensorflow:Can save best model only with val_accuracy available, skipping.\n",
            "56/56 [==============================] - 254s 5s/step - loss: 1.6887 - accuracy: 0.3288\n",
            "Epoch 5/50\n",
            "56/56 [==============================] - ETA: 0s - loss: 1.6579 - accuracy: 0.3474WARNING:tensorflow:Can save best model only with val_accuracy available, skipping.\n",
            "56/56 [==============================] - 271s 5s/step - loss: 1.6579 - accuracy: 0.3474\n",
            "Epoch 6/50\n",
            "56/56 [==============================] - ETA: 0s - loss: 1.6184 - accuracy: 0.3613WARNING:tensorflow:Can save best model only with val_accuracy available, skipping.\n",
            "56/56 [==============================] - 239s 4s/step - loss: 1.6184 - accuracy: 0.3613\n",
            "Epoch 7/50\n",
            "56/56 [==============================] - ETA: 0s - loss: 1.5966 - accuracy: 0.3733WARNING:tensorflow:Can save best model only with val_accuracy available, skipping.\n",
            "56/56 [==============================] - 226s 4s/step - loss: 1.5966 - accuracy: 0.3733\n",
            "Epoch 8/50\n",
            "56/56 [==============================] - ETA: 0s - loss: 1.5664 - accuracy: 0.3880WARNING:tensorflow:Can save best model only with val_accuracy available, skipping.\n",
            "56/56 [==============================] - 225s 4s/step - loss: 1.5664 - accuracy: 0.3880\n",
            "Epoch 9/50\n",
            "56/56 [==============================] - ETA: 0s - loss: 1.5362 - accuracy: 0.4014WARNING:tensorflow:Can save best model only with val_accuracy available, skipping.\n",
            "56/56 [==============================] - 253s 5s/step - loss: 1.5362 - accuracy: 0.4014\n",
            "Epoch 10/50\n",
            "56/56 [==============================] - ETA: 0s - loss: 1.5055 - accuracy: 0.4175WARNING:tensorflow:Can save best model only with val_accuracy available, skipping.\n",
            "56/56 [==============================] - 261s 5s/step - loss: 1.5055 - accuracy: 0.4175\n",
            "Epoch 11/50\n",
            "56/56 [==============================] - ETA: 0s - loss: 1.4701 - accuracy: 0.4306WARNING:tensorflow:Can save best model only with val_accuracy available, skipping.\n",
            "56/56 [==============================] - 276s 5s/step - loss: 1.4701 - accuracy: 0.4306\n",
            "Epoch 12/50\n",
            "56/56 [==============================] - ETA: 0s - loss: 1.4448 - accuracy: 0.4430WARNING:tensorflow:Can save best model only with val_accuracy available, skipping.\n",
            "56/56 [==============================] - 271s 5s/step - loss: 1.4448 - accuracy: 0.4430\n",
            "Epoch 13/50\n",
            "56/56 [==============================] - ETA: 0s - loss: 1.4330 - accuracy: 0.4483WARNING:tensorflow:Can save best model only with val_accuracy available, skipping.\n",
            "56/56 [==============================] - 255s 5s/step - loss: 1.4330 - accuracy: 0.4483\n",
            "Epoch 14/50\n",
            "56/56 [==============================] - ETA: 0s - loss: 1.4026 - accuracy: 0.4585WARNING:tensorflow:Can save best model only with val_accuracy available, skipping.\n",
            "56/56 [==============================] - 245s 4s/step - loss: 1.4026 - accuracy: 0.4585\n",
            "Epoch 15/50\n",
            "56/56 [==============================] - ETA: 0s - loss: 1.3878 - accuracy: 0.4678WARNING:tensorflow:Can save best model only with val_accuracy available, skipping.\n",
            "56/56 [==============================] - 243s 4s/step - loss: 1.3878 - accuracy: 0.4678\n",
            "Epoch 16/50\n",
            "56/56 [==============================] - ETA: 0s - loss: 1.3770 - accuracy: 0.4702WARNING:tensorflow:Can save best model only with val_accuracy available, skipping.\n",
            "56/56 [==============================] - 248s 4s/step - loss: 1.3770 - accuracy: 0.4702\n",
            "Epoch 17/50\n",
            "56/56 [==============================] - ETA: 0s - loss: 1.3677 - accuracy: 0.4747WARNING:tensorflow:Can save best model only with val_accuracy available, skipping.\n",
            "56/56 [==============================] - 246s 4s/step - loss: 1.3677 - accuracy: 0.4747\n",
            "Epoch 18/50\n",
            "56/56 [==============================] - ETA: 0s - loss: 1.3439 - accuracy: 0.4882WARNING:tensorflow:Can save best model only with val_accuracy available, skipping.\n",
            "56/56 [==============================] - 240s 4s/step - loss: 1.3439 - accuracy: 0.4882\n",
            "Epoch 19/50\n",
            "56/56 [==============================] - ETA: 0s - loss: 1.3426 - accuracy: 0.4868WARNING:tensorflow:Can save best model only with val_accuracy available, skipping.\n",
            "56/56 [==============================] - 243s 4s/step - loss: 1.3426 - accuracy: 0.4868\n",
            "Epoch 20/50\n",
            "56/56 [==============================] - ETA: 0s - loss: 1.3311 - accuracy: 0.4897WARNING:tensorflow:Can save best model only with val_accuracy available, skipping.\n",
            "56/56 [==============================] - 249s 4s/step - loss: 1.3311 - accuracy: 0.4897\n",
            "Epoch 21/50\n",
            "56/56 [==============================] - ETA: 0s - loss: 1.3147 - accuracy: 0.4990WARNING:tensorflow:Can save best model only with val_accuracy available, skipping.\n",
            "56/56 [==============================] - 251s 4s/step - loss: 1.3147 - accuracy: 0.4990\n",
            "Epoch 22/50\n",
            "56/56 [==============================] - ETA: 0s - loss: 1.3107 - accuracy: 0.5004WARNING:tensorflow:Can save best model only with val_accuracy available, skipping.\n",
            "56/56 [==============================] - 255s 5s/step - loss: 1.3107 - accuracy: 0.5004\n",
            "Epoch 23/50\n",
            "56/56 [==============================] - ETA: 0s - loss: 1.2910 - accuracy: 0.5043WARNING:tensorflow:Can save best model only with val_accuracy available, skipping.\n",
            "56/56 [==============================] - 263s 5s/step - loss: 1.2910 - accuracy: 0.5043\n",
            "Epoch 24/50\n",
            "56/56 [==============================] - ETA: 0s - loss: 1.2832 - accuracy: 0.5091WARNING:tensorflow:Can save best model only with val_accuracy available, skipping.\n",
            "56/56 [==============================] - 254s 5s/step - loss: 1.2832 - accuracy: 0.5091\n",
            "Epoch 25/50\n",
            "56/56 [==============================] - ETA: 0s - loss: 1.2753 - accuracy: 0.5104WARNING:tensorflow:Can save best model only with val_accuracy available, skipping.\n",
            "56/56 [==============================] - 258s 5s/step - loss: 1.2753 - accuracy: 0.5104\n",
            "Epoch 26/50\n",
            "56/56 [==============================] - ETA: 0s - loss: 1.2679 - accuracy: 0.5132WARNING:tensorflow:Can save best model only with val_accuracy available, skipping.\n",
            "56/56 [==============================] - 255s 5s/step - loss: 1.2679 - accuracy: 0.5132\n",
            "Epoch 27/50\n",
            "56/56 [==============================] - ETA: 0s - loss: 1.2668 - accuracy: 0.5137WARNING:tensorflow:Can save best model only with val_accuracy available, skipping.\n",
            "56/56 [==============================] - 254s 5s/step - loss: 1.2668 - accuracy: 0.5137\n",
            "Epoch 28/50\n",
            "56/56 [==============================] - ETA: 0s - loss: 1.2584 - accuracy: 0.5177WARNING:tensorflow:Can save best model only with val_accuracy available, skipping.\n",
            "56/56 [==============================] - 250s 4s/step - loss: 1.2584 - accuracy: 0.5177\n",
            "Epoch 29/50\n",
            "56/56 [==============================] - ETA: 0s - loss: 1.2469 - accuracy: 0.5246WARNING:tensorflow:Can save best model only with val_accuracy available, skipping.\n",
            "56/56 [==============================] - 254s 5s/step - loss: 1.2469 - accuracy: 0.5246\n",
            "Epoch 30/50\n",
            "56/56 [==============================] - ETA: 0s - loss: 1.2370 - accuracy: 0.5288WARNING:tensorflow:Can save best model only with val_accuracy available, skipping.\n",
            "56/56 [==============================] - 251s 4s/step - loss: 1.2370 - accuracy: 0.5288\n",
            "Epoch 31/50\n",
            "56/56 [==============================] - ETA: 0s - loss: 1.2350 - accuracy: 0.5264WARNING:tensorflow:Can save best model only with val_accuracy available, skipping.\n",
            "56/56 [==============================] - 249s 4s/step - loss: 1.2350 - accuracy: 0.5264\n",
            "Epoch 32/50\n",
            "56/56 [==============================] - ETA: 0s - loss: 1.2324 - accuracy: 0.5278WARNING:tensorflow:Can save best model only with val_accuracy available, skipping.\n",
            "56/56 [==============================] - 249s 4s/step - loss: 1.2324 - accuracy: 0.5278\n",
            "Epoch 33/50\n",
            "56/56 [==============================] - ETA: 0s - loss: 1.2252 - accuracy: 0.5299WARNING:tensorflow:Can save best model only with val_accuracy available, skipping.\n",
            "56/56 [==============================] - 251s 4s/step - loss: 1.2252 - accuracy: 0.5299\n",
            "Epoch 34/50\n",
            "56/56 [==============================] - ETA: 0s - loss: 1.2128 - accuracy: 0.5349WARNING:tensorflow:Can save best model only with val_accuracy available, skipping.\n",
            "56/56 [==============================] - 249s 4s/step - loss: 1.2128 - accuracy: 0.5349\n",
            "Epoch 35/50\n",
            "56/56 [==============================] - ETA: 0s - loss: 1.2207 - accuracy: 0.5354WARNING:tensorflow:Can save best model only with val_accuracy available, skipping.\n",
            "56/56 [==============================] - 249s 4s/step - loss: 1.2207 - accuracy: 0.5354\n",
            "Epoch 36/50\n",
            "56/56 [==============================] - ETA: 0s - loss: 1.2092 - accuracy: 0.5393WARNING:tensorflow:Can save best model only with val_accuracy available, skipping.\n",
            "56/56 [==============================] - 250s 4s/step - loss: 1.2092 - accuracy: 0.5393\n",
            "Epoch 37/50\n",
            "56/56 [==============================] - ETA: 0s - loss: 1.2020 - accuracy: 0.5416WARNING:tensorflow:Can save best model only with val_accuracy available, skipping.\n",
            "56/56 [==============================] - 249s 4s/step - loss: 1.2020 - accuracy: 0.5416\n",
            "Epoch 38/50\n",
            "56/56 [==============================] - ETA: 0s - loss: 1.1976 - accuracy: 0.5461WARNING:tensorflow:Can save best model only with val_accuracy available, skipping.\n",
            "56/56 [==============================] - 270s 5s/step - loss: 1.1976 - accuracy: 0.5461\n",
            "Epoch 39/50\n",
            "56/56 [==============================] - ETA: 0s - loss: 1.1981 - accuracy: 0.5466WARNING:tensorflow:Can save best model only with val_accuracy available, skipping.\n",
            "56/56 [==============================] - 348s 6s/step - loss: 1.1981 - accuracy: 0.5466\n",
            "Epoch 40/50\n",
            "56/56 [==============================] - ETA: 0s - loss: 1.1943 - accuracy: 0.5457WARNING:tensorflow:Can save best model only with val_accuracy available, skipping.\n",
            "56/56 [==============================] - 338s 6s/step - loss: 1.1943 - accuracy: 0.5457\n",
            "Epoch 41/50\n",
            "56/56 [==============================] - ETA: 0s - loss: 1.1805 - accuracy: 0.5494WARNING:tensorflow:Can save best model only with val_accuracy available, skipping.\n",
            "56/56 [==============================] - 317s 6s/step - loss: 1.1805 - accuracy: 0.5494\n",
            "Epoch 42/50\n",
            "56/56 [==============================] - ETA: 0s - loss: 1.1757 - accuracy: 0.5509WARNING:tensorflow:Can save best model only with val_accuracy available, skipping.\n",
            "56/56 [==============================] - 280s 5s/step - loss: 1.1757 - accuracy: 0.5509\n",
            "Epoch 43/50\n",
            "56/56 [==============================] - ETA: 0s - loss: 1.1744 - accuracy: 0.5510WARNING:tensorflow:Can save best model only with val_accuracy available, skipping.\n",
            "56/56 [==============================] - 292s 5s/step - loss: 1.1744 - accuracy: 0.5510\n",
            "Epoch 44/50\n",
            "56/56 [==============================] - ETA: 0s - loss: 1.1685 - accuracy: 0.5551WARNING:tensorflow:Can save best model only with val_accuracy available, skipping.\n",
            "56/56 [==============================] - 278s 5s/step - loss: 1.1685 - accuracy: 0.5551\n",
            "Epoch 45/50\n",
            "56/56 [==============================] - ETA: 0s - loss: 1.1774 - accuracy: 0.5475WARNING:tensorflow:Can save best model only with val_accuracy available, skipping.\n",
            "56/56 [==============================] - 278s 5s/step - loss: 1.1774 - accuracy: 0.5475\n",
            "Epoch 46/50\n",
            "56/56 [==============================] - ETA: 0s - loss: 1.1728 - accuracy: 0.5554WARNING:tensorflow:Can save best model only with val_accuracy available, skipping.\n",
            "56/56 [==============================] - 261s 5s/step - loss: 1.1728 - accuracy: 0.5554\n",
            "Epoch 47/50\n",
            "56/56 [==============================] - ETA: 0s - loss: 1.1595 - accuracy: 0.5588WARNING:tensorflow:Can save best model only with val_accuracy available, skipping.\n",
            "56/56 [==============================] - 256s 5s/step - loss: 1.1595 - accuracy: 0.5588\n",
            "Epoch 48/50\n",
            "56/56 [==============================] - ETA: 0s - loss: 1.1612 - accuracy: 0.5572WARNING:tensorflow:Can save best model only with val_accuracy available, skipping.\n",
            "56/56 [==============================] - 273s 5s/step - loss: 1.1612 - accuracy: 0.5572\n",
            "Epoch 49/50\n",
            "56/56 [==============================] - ETA: 0s - loss: 1.1596 - accuracy: 0.5562WARNING:tensorflow:Can save best model only with val_accuracy available, skipping.\n",
            "56/56 [==============================] - 257s 5s/step - loss: 1.1596 - accuracy: 0.5562\n",
            "Epoch 50/50\n",
            "56/56 [==============================] - ETA: 0s - loss: 1.1590 - accuracy: 0.5576WARNING:tensorflow:Can save best model only with val_accuracy available, skipping.\n",
            "56/56 [==============================] - 256s 5s/step - loss: 1.1590 - accuracy: 0.5576\n"
          ]
        }
      ],
      "source": [
        "history=model.fit_generator(\n",
        "        train_generator,\n",
        "        steps_per_epoch=nb_train_samples// batch_size,\n",
        "        epochs=50,\n",
        "        validation_data=validation_generator,\n",
        "        callbacks = callbacks,\n",
        "        validation_steps=nb_validation_samples // batch_size)"
      ]
    },
    {
      "cell_type": "code",
      "execution_count": 31,
      "metadata": {
        "colab": {
          "base_uri": "https://localhost:8080/",
          "height": 374
        },
        "colab_type": "code",
        "id": "ayUv9KJFoUz4",
        "outputId": "362183cf-59fd-422a-ddb7-eb15a3fb5c0d"
      },
      "outputs": [
        {
          "ename": "KeyError",
          "evalue": "'val_acc'",
          "output_type": "error",
          "traceback": [
            "\u001b[1;31m---------------------------------------------------------------------------\u001b[0m",
            "\u001b[1;31mKeyError\u001b[0m                                  Traceback (most recent call last)",
            "Cell \u001b[1;32mIn[31], line 3\u001b[0m\n\u001b[0;32m      1\u001b[0m fig,(ax1,ax2)\u001b[39m=\u001b[39mplt\u001b[39m.\u001b[39msubplots(nrows\u001b[39m=\u001b[39m\u001b[39m1\u001b[39m,ncols\u001b[39m=\u001b[39m\u001b[39m2\u001b[39m,figsize\u001b[39m=\u001b[39m(\u001b[39m20\u001b[39m,\u001b[39m6\u001b[39m))\n\u001b[0;32m      2\u001b[0m ax1\u001b[39m.\u001b[39mplot(history\u001b[39m.\u001b[39mhistory[\u001b[39m'\u001b[39m\u001b[39maccuracy\u001b[39m\u001b[39m'\u001b[39m],label\u001b[39m=\u001b[39m\u001b[39m'\u001b[39m\u001b[39mtrain_accuracy\u001b[39m\u001b[39m'\u001b[39m)\n\u001b[1;32m----> 3\u001b[0m ax1\u001b[39m.\u001b[39mplot(history\u001b[39m.\u001b[39;49mhistory[\u001b[39m'\u001b[39;49m\u001b[39mval_acc\u001b[39;49m\u001b[39m'\u001b[39;49m],label\u001b[39m=\u001b[39m\u001b[39m'\u001b[39m\u001b[39mtest_accuracy\u001b[39m\u001b[39m'\u001b[39m)\n\u001b[0;32m      4\u001b[0m ax1\u001b[39m.\u001b[39mlegend()\n\u001b[0;32m      5\u001b[0m ax2\u001b[39m.\u001b[39mplot(history\u001b[39m.\u001b[39mhistory[\u001b[39m'\u001b[39m\u001b[39mloss\u001b[39m\u001b[39m'\u001b[39m],label\u001b[39m=\u001b[39m\u001b[39m'\u001b[39m\u001b[39mtrain_loss\u001b[39m\u001b[39m'\u001b[39m)\n",
            "\u001b[1;31mKeyError\u001b[0m: 'val_acc'"
          ]
        },
        {
          "data": {
            "image/png": "[encoded data removed]",
            "text/plain": [
              "<Figure size 2000x600 with 2 Axes>"
            ]
          },
          "metadata": {},
          "output_type": "display_data"
        }
      ],
      "source": [
        "fig,(ax1,ax2)=plt.subplots(nrows=1,ncols=2,figsize=(20,6))\n",
        "ax1.plot(history.history['accuracy'],label='train_accuracy')\n",
        "ax1.plot(history.history['val_accuracy'],label='test_accuracy')\n",
        "ax1.legend()\n",
        "ax2.plot(history.history['loss'],label='train_loss')\n",
        "ax2.plot(history.history['val_loss'],label='test_loss')\n",
        "ax2.legend()\n",
        "plt.show()"
      ]
    },
    {
      "cell_type": "markdown",
      "metadata": {
        "colab_type": "text",
        "id": "tSumRgD0DE5F"
      },
      "source": [
        "## Predicting And Checking Accuracy"
      ]
    },
    {
      "cell_type": "code",
      "execution_count": 16,
      "metadata": {
        "colab": {
          "base_uri": "https://localhost:8080/",
          "height": 139
        },
        "colab_type": "code",
        "id": "ZI4rKmnvqypP",
        "outputId": "4ed4b81a-60d1-4945-ee70-7c6529796aa5"
      },
      "outputs": [
        {
          "data": {
            "text/plain": [
              "{'Jijik': 0,\n",
              " 'Marah': 1,\n",
              " 'Netral': 2,\n",
              " 'Sedih': 3,\n",
              " 'Senang': 4,\n",
              " 'Takut': 5,\n",
              " 'Terkejut': 6}"
            ]
          },
          "execution_count": 16,
          "metadata": {},
          "output_type": "execute_result"
        }
      ],
      "source": [
        "class_labels = train_generator.class_indices\n",
        "class_labels"
      ]
    },
    {
      "cell_type": "code",
      "execution_count": 1,
      "metadata": {
        "colab": {
          "base_uri": "https://localhost:8080/",
          "height": 34
        },
        "colab_type": "code",
        "id": "NVTpY74MuARw",
        "outputId": "9758cd1b-0b28-4da0-a444-0076bfc51821"
      },
      "outputs": [
        {
          "ename": "NameError",
          "evalue": "name 'test_datagen' is not defined",
          "output_type": "error",
          "traceback": [
            "\u001b[1;31m---------------------------------------------------------------------------\u001b[0m",
            "\u001b[1;31mNameError\u001b[0m                                 Traceback (most recent call last)",
            "Cell \u001b[1;32mIn[1], line 1\u001b[0m\n\u001b[1;32m----> 1\u001b[0m predict_generator \u001b[39m=\u001b[39m test_datagen\u001b[39m.\u001b[39mflow_from_directory(\n\u001b[0;32m      2\u001b[0m         \u001b[39m'\u001b[39m\u001b[39m./Image_Generator/Testing/\u001b[39m\u001b[39m'\u001b[39m,\n\u001b[0;32m      3\u001b[0m         target_size\u001b[39m=\u001b[39m(\u001b[39m48\u001b[39m,\u001b[39m48\u001b[39m),\n\u001b[0;32m      4\u001b[0m         batch_size\u001b[39m=\u001b[39m\u001b[39m1\u001b[39m,\n\u001b[0;32m      5\u001b[0m         color_mode\u001b[39m=\u001b[39m\u001b[39m\"\u001b[39m\u001b[39mgrayscale\u001b[39m\u001b[39m\"\u001b[39m,\n\u001b[0;32m      6\u001b[0m         shuffle \u001b[39m=\u001b[39m \u001b[39mFalse\u001b[39;00m,\n\u001b[0;32m      7\u001b[0m         class_mode\u001b[39m=\u001b[39m\u001b[39m'\u001b[39m\u001b[39mcategorical\u001b[39m\u001b[39m'\u001b[39m)\n",
            "\u001b[1;31mNameError\u001b[0m: name 'test_datagen' is not defined"
          ]
        }
      ],
      "source": [
        "predict_generator = test_datagen.flow_from_directory(\n",
        "        './Image_Generator/Testing/',\n",
        "        target_size=(48,48),\n",
        "        batch_size=1,\n",
        "        color_mode=\"grayscale\",\n",
        "        shuffle = False,\n",
        "        class_mode='categorical')"
      ]
    },
    {
      "cell_type": "code",
      "execution_count": 19,
      "metadata": {
        "colab": {
          "base_uri": "https://localhost:8080/",
          "height": 89
        },
        "colab_type": "code",
        "id": "l316iEBardoo",
        "outputId": "5036447b-f6cc-469f-f4bb-67f5544a4ac6"
      },
      "outputs": [
        {
          "name": "stderr",
          "output_type": "stream",
          "text": [
            "C:\\Users\\62821\\AppData\\Local\\Temp\\ipykernel_22488\\881772465.py:1: UserWarning: `Model.predict_generator` is deprecated and will be removed in a future version. Please use `Model.predict`, which supports generators.\n",
            "  Y_pred = model.predict_generator(predict_generator, nb_validation_samples)\n"
          ]
        },
        {
          "ename": "ValueError",
          "evalue": "Asked to retrieve element 0, but the Sequence has length 0",
          "output_type": "error",
          "traceback": [
            "\u001b[1;31m---------------------------------------------------------------------------\u001b[0m",
            "\u001b[1;31mValueError\u001b[0m                                Traceback (most recent call last)",
            "Cell \u001b[1;32mIn[19], line 1\u001b[0m\n\u001b[1;32m----> 1\u001b[0m Y_pred \u001b[39m=\u001b[39m model\u001b[39m.\u001b[39;49mpredict_generator(predict_generator, nb_validation_samples)\n",
            "File \u001b[1;32mc:\\Users\\62821\\AppData\\Local\\Programs\\Python\\Python311\\Lib\\site-packages\\keras\\engine\\training.py:2711\u001b[0m, in \u001b[0;36mModel.predict_generator\u001b[1;34m(self, generator, steps, callbacks, max_queue_size, workers, use_multiprocessing, verbose)\u001b[0m\n\u001b[0;32m   2699\u001b[0m \u001b[39m\u001b[39m\u001b[39m\"\"\"Generates predictions for the input samples from a data generator.\u001b[39;00m\n\u001b[0;32m   2700\u001b[0m \n\u001b[0;32m   2701\u001b[0m \u001b[39mDEPRECATED:\u001b[39;00m\n\u001b[0;32m   2702\u001b[0m \u001b[39m  `Model.predict` now supports generators, so there is no longer any\u001b[39;00m\n\u001b[0;32m   2703\u001b[0m \u001b[39m  need to use this endpoint.\u001b[39;00m\n\u001b[0;32m   2704\u001b[0m \u001b[39m\"\"\"\u001b[39;00m\n\u001b[0;32m   2705\u001b[0m warnings\u001b[39m.\u001b[39mwarn(\n\u001b[0;32m   2706\u001b[0m     \u001b[39m\"\u001b[39m\u001b[39m`Model.predict_generator` is deprecated and \u001b[39m\u001b[39m\"\u001b[39m\n\u001b[0;32m   2707\u001b[0m     \u001b[39m\"\u001b[39m\u001b[39mwill be removed in a future version. \u001b[39m\u001b[39m\"\u001b[39m\n\u001b[0;32m   2708\u001b[0m     \u001b[39m\"\u001b[39m\u001b[39mPlease use `Model.predict`, which supports generators.\u001b[39m\u001b[39m\"\u001b[39m,\n\u001b[0;32m   2709\u001b[0m     stacklevel\u001b[39m=\u001b[39m\u001b[39m2\u001b[39m,\n\u001b[0;32m   2710\u001b[0m )\n\u001b[1;32m-> 2711\u001b[0m \u001b[39mreturn\u001b[39;00m \u001b[39mself\u001b[39;49m\u001b[39m.\u001b[39;49mpredict(\n\u001b[0;32m   2712\u001b[0m     generator,\n\u001b[0;32m   2713\u001b[0m     steps\u001b[39m=\u001b[39;49msteps,\n\u001b[0;32m   2714\u001b[0m     max_queue_size\u001b[39m=\u001b[39;49mmax_queue_size,\n\u001b[0;32m   2715\u001b[0m     workers\u001b[39m=\u001b[39;49mworkers,\n\u001b[0;32m   2716\u001b[0m     use_multiprocessing\u001b[39m=\u001b[39;49muse_multiprocessing,\n\u001b[0;32m   2717\u001b[0m     verbose\u001b[39m=\u001b[39;49mverbose,\n\u001b[0;32m   2718\u001b[0m     callbacks\u001b[39m=\u001b[39;49mcallbacks,\n\u001b[0;32m   2719\u001b[0m )\n",
            "File \u001b[1;32mc:\\Users\\62821\\AppData\\Local\\Programs\\Python\\Python311\\Lib\\site-packages\\keras\\utils\\traceback_utils.py:70\u001b[0m, in \u001b[0;36mfilter_traceback.<locals>.error_handler\u001b[1;34m(*args, **kwargs)\u001b[0m\n\u001b[0;32m     67\u001b[0m     filtered_tb \u001b[39m=\u001b[39m _process_traceback_frames(e\u001b[39m.\u001b[39m__traceback__)\n\u001b[0;32m     68\u001b[0m     \u001b[39m# To get the full stack trace, call:\u001b[39;00m\n\u001b[0;32m     69\u001b[0m     \u001b[39m# `tf.debugging.disable_traceback_filtering()`\u001b[39;00m\n\u001b[1;32m---> 70\u001b[0m     \u001b[39mraise\u001b[39;00m e\u001b[39m.\u001b[39mwith_traceback(filtered_tb) \u001b[39mfrom\u001b[39;00m \u001b[39mNone\u001b[39m\n\u001b[0;32m     71\u001b[0m \u001b[39mfinally\u001b[39;00m:\n\u001b[0;32m     72\u001b[0m     \u001b[39mdel\u001b[39;00m filtered_tb\n",
            "File \u001b[1;32mc:\\Users\\62821\\AppData\\Local\\Programs\\Python\\Python311\\Lib\\site-packages\\keras\\preprocessing\\image.py:103\u001b[0m, in \u001b[0;36mIterator.__getitem__\u001b[1;34m(self, idx)\u001b[0m\n\u001b[0;32m    101\u001b[0m \u001b[39mdef\u001b[39;00m \u001b[39m__getitem__\u001b[39m(\u001b[39mself\u001b[39m, idx):\n\u001b[0;32m    102\u001b[0m     \u001b[39mif\u001b[39;00m idx \u001b[39m>\u001b[39m\u001b[39m=\u001b[39m \u001b[39mlen\u001b[39m(\u001b[39mself\u001b[39m):\n\u001b[1;32m--> 103\u001b[0m         \u001b[39mraise\u001b[39;00m \u001b[39mValueError\u001b[39;00m(\n\u001b[0;32m    104\u001b[0m             \u001b[39m\"\u001b[39m\u001b[39mAsked to retrieve element \u001b[39m\u001b[39m{idx}\u001b[39;00m\u001b[39m, \u001b[39m\u001b[39m\"\u001b[39m\n\u001b[0;32m    105\u001b[0m             \u001b[39m\"\u001b[39m\u001b[39mbut the Sequence \u001b[39m\u001b[39m\"\u001b[39m\n\u001b[0;32m    106\u001b[0m             \u001b[39m\"\u001b[39m\u001b[39mhas length \u001b[39m\u001b[39m{length}\u001b[39;00m\u001b[39m\"\u001b[39m\u001b[39m.\u001b[39mformat(idx\u001b[39m=\u001b[39midx, length\u001b[39m=\u001b[39m\u001b[39mlen\u001b[39m(\u001b[39mself\u001b[39m))\n\u001b[0;32m    107\u001b[0m         )\n\u001b[0;32m    108\u001b[0m     \u001b[39mif\u001b[39;00m \u001b[39mself\u001b[39m\u001b[39m.\u001b[39mseed \u001b[39mis\u001b[39;00m \u001b[39mnot\u001b[39;00m \u001b[39mNone\u001b[39;00m:\n\u001b[0;32m    109\u001b[0m         np\u001b[39m.\u001b[39mrandom\u001b[39m.\u001b[39mseed(\u001b[39mself\u001b[39m\u001b[39m.\u001b[39mseed \u001b[39m+\u001b[39m \u001b[39mself\u001b[39m\u001b[39m.\u001b[39mtotal_batches_seen)\n",
            "\u001b[1;31mValueError\u001b[0m: Asked to retrieve element 0, but the Sequence has length 0"
          ]
        }
      ],
      "source": [
        "Y_pred = model.predict_generator(predict_generator, nb_validation_samples)"
      ]
    },
    {
      "cell_type": "code",
      "execution_count": 20,
      "metadata": {
        "colab": {},
        "colab_type": "code",
        "id": "UyY6a75Art53"
      },
      "outputs": [
        {
          "ename": "NameError",
          "evalue": "name 'Y_pred' is not defined",
          "output_type": "error",
          "traceback": [
            "\u001b[1;31m---------------------------------------------------------------------------\u001b[0m",
            "\u001b[1;31mNameError\u001b[0m                                 Traceback (most recent call last)",
            "Cell \u001b[1;32mIn[20], line 1\u001b[0m\n\u001b[1;32m----> 1\u001b[0m y_pred \u001b[39m=\u001b[39m np\u001b[39m.\u001b[39margmax(Y_pred,axis\u001b[39m=\u001b[39m\u001b[39m1\u001b[39m)\n",
            "\u001b[1;31mNameError\u001b[0m: name 'Y_pred' is not defined"
          ]
        }
      ],
      "source": [
        "y_pred = np.argmax(Y_pred,axis=1)"
      ]
    },
    {
      "cell_type": "code",
      "execution_count": 21,
      "metadata": {
        "colab": {
          "base_uri": "https://localhost:8080/",
          "height": 34
        },
        "colab_type": "code",
        "id": "icB_jOEaryPn",
        "outputId": "628bb58b-2998-4050-f593-94044d380600"
      },
      "outputs": [
        {
          "ename": "NameError",
          "evalue": "name 'y_pred' is not defined",
          "output_type": "error",
          "traceback": [
            "\u001b[1;31m---------------------------------------------------------------------------\u001b[0m",
            "\u001b[1;31mNameError\u001b[0m                                 Traceback (most recent call last)",
            "Cell \u001b[1;32mIn[21], line 1\u001b[0m\n\u001b[1;32m----> 1\u001b[0m \u001b[39mlen\u001b[39m(y_pred)\n",
            "\u001b[1;31mNameError\u001b[0m: name 'y_pred' is not defined"
          ]
        }
      ],
      "source": [
        "len(y_pred)"
      ]
    },
    {
      "cell_type": "code",
      "execution_count": 33,
      "metadata": {
        "colab": {
          "base_uri": "https://localhost:8080/",
          "height": 262
        },
        "colab_type": "code",
        "id": "oNjeNh4hr-RQ",
        "outputId": "a5b371a4-bb10-4b0a-d5a3-5500b67f08d7"
      },
      "outputs": [
        {
          "ename": "NameError",
          "evalue": "name 'predict_generator' is not defined",
          "output_type": "error",
          "traceback": [
            "\u001b[1;31m---------------------------------------------------------------------------\u001b[0m",
            "\u001b[1;31mNameError\u001b[0m                                 Traceback (most recent call last)",
            "Cell \u001b[1;32mIn[33], line 1\u001b[0m\n\u001b[1;32m----> 1\u001b[0m \u001b[39mprint\u001b[39m(classification_report(predict_generator\u001b[39m.\u001b[39mclasses, y_pred))\n",
            "\u001b[1;31mNameError\u001b[0m: name 'predict_generator' is not defined"
          ]
        },
        {
          "ename": "",
          "evalue": "",
          "output_type": "error",
          "traceback": [
            "\u001b[1;31mThe Kernel crashed while executing code in the the current cell or a previous cell. Please review the code in the cell(s) to identify a possible cause of the failure. Click <a href='https://aka.ms/vscodeJupyterKernelCrash'>here</a> for more info. View Jupyter <a href='command:jupyter.viewOutput'>log</a> for further details."
          ]
        }
      ],
      "source": [
        "print(classification_report(predict_generator.classes, y_pred))"
      ]
    },
    {
      "cell_type": "markdown",
      "metadata": {
        "colab_type": "text",
        "id": "7u4xJ50UFvcj"
      },
      "source": [
        "#### The Highest Accuracy obtained using model as 59 %."
      ]
    }
  ],
  "metadata": {
    "accelerator": "GPU",
    "colab": {
      "collapsed_sections": [],
      "name": "facial emotion recognition.ipynb",
      "provenance": []
    },
    "kernelspec": {
      "display_name": "Python 3",
      "name": "python3"
    },
    "language_info": {
      "codemirror_mode": {
        "name": "ipython",
        "version": 3
      },
      "file_extension": ".py",
      "mimetype": "text/x-python",
      "name": "python",
      "nbconvert_exporter": "python",
      "pygments_lexer": "ipython3",
      "version": "3.11.2"
    }
  },
  "nbformat": 4,
  "nbformat_minor": 0
}
