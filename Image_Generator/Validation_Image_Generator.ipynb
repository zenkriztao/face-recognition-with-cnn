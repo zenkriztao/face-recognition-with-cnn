{
    "cells": [
        {
            "cell_type": "code",
            "execution_count": 2,
            "metadata": {},
            "outputs": [],
            "source": [
                "import pandas as pd\n",
                "import os\n",
                "import numpy as np\n",
                "import cv2"
            ]
        },
        {
            "cell_type": "code",
            "execution_count": 3,
            "metadata": {},
            "outputs": [
                {
                    "ename": "FileExistsError",
                    "evalue": "[WinError 183] Cannot create a file when that file already exists: 'Testing'",
                    "output_type": "error",
                    "traceback": [
                        "\u001b[1;31m---------------------------------------------------------------------------\u001b[0m",
                        "\u001b[1;31mFileExistsError\u001b[0m                           Traceback (most recent call last)",
                        "Cell \u001b[1;32mIn[3], line 1\u001b[0m\n\u001b[1;32m----> 1\u001b[0m os\u001b[39m.\u001b[39;49mmkdir(\u001b[39m\"\u001b[39;49m\u001b[39mTesting\u001b[39;49m\u001b[39m\"\u001b[39;49m)\n\u001b[0;32m      2\u001b[0m os\u001b[39m.\u001b[39mmkdir(\u001b[39m\"\u001b[39m\u001b[39mTesting/Marah\u001b[39m\u001b[39m\"\u001b[39m)\n\u001b[0;32m      3\u001b[0m os\u001b[39m.\u001b[39mmkdir(\u001b[39m\"\u001b[39m\u001b[39mTesting/Jijik\u001b[39m\u001b[39m\"\u001b[39m)\n",
                        "\u001b[1;31mFileExistsError\u001b[0m: [WinError 183] Cannot create a file when that file already exists: 'Testing'"
                    ]
                }
            ],
            "source": [
                "os.mkdir(\"Testing\")\n",
                "os.mkdir(\"Testing/Marah\")\n",
                "os.mkdir(\"Testing/Jijik\")\n",
                "os.mkdir(\"Testing/Takut\")\n",
                "os.mkdir(\"Testing/Senang\")\n",
                "os.mkdir(\"Testing/Sedih\")\n",
                "os.mkdir(\"Testing/Terkejut\")\n",
                "os.mkdir(\"Testing/Netral\")"
            ]
        },
        {
            "cell_type": "code",
            "execution_count": 4,
            "metadata": {},
            "outputs": [
                {
                    "name": "stdout",
                    "output_type": "stream",
                    "text": [
                        "Senang\n"
                    ]
                }
            ],
            "source": [
                "emo_dict={0:\"Marah\",1:\"Jijik\",2:\"Takut\",3:\"Senang\",4:\"Sedih\",5:\"Terkejut\",6:\"Netral\"}\n",
                "print(emo_dict[3])"
            ]
        },
        {
            "cell_type": "code",
            "execution_count": 5,
            "metadata": {},
            "outputs": [],
            "source": [
                "fer_data=pd.read_csv('./icml_face_data.csv',delimiter=',')\n",
                "new_data=fer_data.iloc[28709:,]\n",
                "new_data.to_csv(\"Mood_Testing.csv\")"
            ]
        },
        {
            "cell_type": "code",
            "execution_count": 6,
            "metadata": {},
            "outputs": [],
            "source": [
                "fer_data=pd.read_csv('Mood_Testing.csv')\n",
                "emotion=fer_data.iloc[:,[1]].values\n",
                "emo=emotion.tolist()"
            ]
        },
        {
            "cell_type": "code",
            "execution_count": 7,
            "metadata": {},
            "outputs": [
                {
                    "data": {
                        "text/html": [
                            "<div>\n",
                            "<style scoped>\n",
                            "    .dataframe tbody tr th:only-of-type {\n",
                            "        vertical-align: middle;\n",
                            "    }\n",
                            "\n",
                            "    .dataframe tbody tr th {\n",
                            "        vertical-align: top;\n",
                            "    }\n",
                            "\n",
                            "    .dataframe thead th {\n",
                            "        text-align: right;\n",
                            "    }\n",
                            "</style>\n",
                            "<table border=\"1\" class=\"dataframe\">\n",
                            "  <thead>\n",
                            "    <tr style=\"text-align: right;\">\n",
                            "      <th></th>\n",
                            "      <th>Unnamed: 0</th>\n",
                            "      <th>emotion</th>\n",
                            "      <th>pixels</th>\n",
                            "    </tr>\n",
                            "  </thead>\n",
                            "  <tbody>\n",
                            "  </tbody>\n",
                            "</table>\n",
                            "</div>"
                        ],
                        "text/plain": [
                            "Empty DataFrame\n",
                            "Columns: [Unnamed: 0, emotion,  pixels]\n",
                            "Index: []"
                        ]
                    },
                    "execution_count": 7,
                    "metadata": {},
                    "output_type": "execute_result"
                }
            ],
            "source": [
                "fer_data.head()"
            ]
        },
        {
            "cell_type": "code",
            "execution_count": 17,
            "metadata": {},
            "outputs": [],
            "source": [
                "pixels=np.array(fer_data.iloc[:,[1]].values)\n",
                "df=pd.DataFrame(pixels)\n",
                "df.columns=['pixels']"
            ]
        },
        {
            "cell_type": "code",
            "execution_count": 9,
            "metadata": {},
            "outputs": [
                {
                    "data": {
                        "text/html": [
                            "<div>\n",
                            "<style scoped>\n",
                            "    .dataframe tbody tr th:only-of-type {\n",
                            "        vertical-align: middle;\n",
                            "    }\n",
                            "\n",
                            "    .dataframe tbody tr th {\n",
                            "        vertical-align: top;\n",
                            "    }\n",
                            "\n",
                            "    .dataframe thead th {\n",
                            "        text-align: right;\n",
                            "    }\n",
                            "</style>\n",
                            "<table border=\"1\" class=\"dataframe\">\n",
                            "  <thead>\n",
                            "    <tr style=\"text-align: right;\">\n",
                            "      <th></th>\n",
                            "      <th>pixels</th>\n",
                            "    </tr>\n",
                            "  </thead>\n",
                            "  <tbody>\n",
                            "  </tbody>\n",
                            "</table>\n",
                            "</div>"
                        ],
                        "text/plain": [
                            "Empty DataFrame\n",
                            "Columns: [pixels]\n",
                            "Index: []"
                        ]
                    },
                    "execution_count": 9,
                    "metadata": {},
                    "output_type": "execute_result"
                }
            ],
            "source": [
                "df"
            ]
        },
        {
            "cell_type": "code",
            "execution_count": 10,
            "metadata": {},
            "outputs": [],
            "source": [
                "def save_fer_img():\n",
                "    for index,row in df.iterrows():\n",
                "        pixels=np.asarray(list(row['pixels'].split(' ')),dtype=np.uint8)\n",
                "        value=emo[index]\n",
                "        #print(emo)\n",
                "        img=pixels.reshape((48,48))\n",
                "        pathname=os.path.join(\"Testing/\"+emo_dict[value[0]],emo_dict[value[0]]+'.jpg')\n",
                "        if os.path.exists(pathname):\n",
                "            no=1\n",
                "            while(True):\n",
                "                new_pathname=os.path.join(\"Testing/\"+emo_dict[value[0]],emo_dict[value[0]]+'-'+str(no)+'.jpg')\n",
                "                if(os.path.exists(new_pathname)):\n",
                "                    no=no+1\n",
                "                else:\n",
                "                    pathname=new_pathname\n",
                "                    break\n",
                "                \n",
                "        cv2.imwrite(pathname,img)\n",
                "        print(index,\"\\t\",pathname)\n",
                "save_fer_img()"
            ]
        }
    ],
    "metadata": {
        "kernelspec": {
            "display_name": "Python 3",
            "language": "python",
            "name": "python3"
        },
        "language_info": {
            "codemirror_mode": {
                "name": "ipython",
                "version": 3
            },
            "file_extension": ".py",
            "mimetype": "text/x-python",
            "name": "python",
            "nbconvert_exporter": "python",
            "pygments_lexer": "ipython3",
            "version": "3.11.2"
        }
    },
    "nbformat": 4,
    "nbformat_minor": 2
}
