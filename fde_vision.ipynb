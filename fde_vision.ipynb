{
    "cells": [
        {
            "cell_type": "code",
            "execution_count": 8,
            "metadata": {},
            "outputs": [
                {
                    "data": {
                        "text/plain": [
                            "'2.12.0-rc1'"
                        ]
                    },
                    "execution_count": 8,
                    "metadata": {},
                    "output_type": "execute_result"
                }
            ],
            "source": [
                "import tensorflow as tf\n",
                "tf.__version__"
            ]
        },
        {
            "cell_type": "code",
            "execution_count": 9,
            "metadata": {},
            "outputs": [],
            "source": [
                "import cv2\n",
                "import tensorflow as tf\n",
                "from tensorflow.keras.models import load_model\n",
                "from tensorflow.keras.preprocessing.image import img_to_array\n",
                "import numpy as np"
            ]
        },
        {
            "cell_type": "code",
            "execution_count": 10,
            "metadata": {},
            "outputs": [],
            "source": [
                "class_face = cv2.CascadeClassifier('./Harcascade/haarcascade.xml')"
            ]
        },
        {
            "cell_type": "code",
            "execution_count": 11,
            "metadata": {},
            "outputs": [],
            "source": [
                "class_models = load_model('./Models/model_k1.hdf5')"
            ]
        },
        {
            "cell_type": "code",
            "execution_count": 12,
            "metadata": {},
            "outputs": [],
            "source": [
                "labels = {0: 'Marah', 1: 'Jijik', 2: 'Takut', 3: 'Senang', 4: 'Netral', 5: 'Sedih', 6: 'Terkejut'}"
            ]
        },
        {
            "cell_type": "markdown",
            "metadata": {},
            "source": [
                "###  Testing On Images"
            ]
        },
        {
            "cell_type": "code",
            "execution_count": 1,
            "metadata": {},
            "outputs": [
                {
                    "ename": "NameError",
                    "evalue": "name 'cv2' is not defined",
                    "output_type": "error",
                    "traceback": [
                        "\u001b[1;31m---------------------------------------------------------------------------\u001b[0m",
                        "\u001b[1;31mNameError\u001b[0m                                 Traceback (most recent call last)",
                        "Cell \u001b[1;32mIn[1], line 1\u001b[0m\n\u001b[1;32m----> 1\u001b[0m img \u001b[39m=\u001b[39m cv2\u001b[39m.\u001b[39mimread(\u001b[39m\"\u001b[39m\u001b[39m./Testing/2.jpeg\u001b[39m\u001b[39m\"\u001b[39m)\n\u001b[0;32m      2\u001b[0m gray \u001b[39m=\u001b[39m cv2\u001b[39m.\u001b[39mcvtColor(img\u001b[39m.\u001b[39mcopy(), cv2\u001b[39m.\u001b[39mCOLOR_BGR2GRAY)\n\u001b[0;32m      3\u001b[0m fde \u001b[39m=\u001b[39m class_face\u001b[39m.\u001b[39mdetectMultiScale(gray, scaleFactor\u001b[39m=\u001b[39m\u001b[39m1.3\u001b[39m, minNeighbors\u001b[39m=\u001b[39m\u001b[39m5\u001b[39m)\n",
                        "\u001b[1;31mNameError\u001b[0m: name 'cv2' is not defined"
                    ]
                }
            ],
            "source": [
                "img = cv2.imread(\"./Testing/2.jpeg\")\n",
                "gray = cv2.cvtColor(img.copy(), cv2.COLOR_BGR2GRAY)\n",
                "fde = class_face.detectMultiScale(gray, scaleFactor=1.3, minNeighbors=5)\n",
                "randomfde = []\n",
                "arr = []\n",
                "    \n",
                "# Draw Rectangle and Predict Emotion \n",
                "for (x, y, w, h) in fde:\n",
                "        cv2.rectangle(img, (x, y), (x+w, y+h), (100, 0, 0), 2)\n",
                "        color_gray = gray[y:y+h, x:x+w]\n",
                "        color_gray = cv2.resize(color_gray, (48, 48), interpolation=cv2.INTER_AREA)\n",
                "        randomfde.append(color_gray)\n",
                "        arr.append((x, w, y, h))\n",
                "i = 0\n",
                "\n",
                "for face in randomfde:\n",
                "        accurate = face.astype(\"float\") / 255.0\n",
                "        accurate = img_to_array(accurate)\n",
                "        accurate = np.expand_dims(accurate, axis=0)\n",
                "        predictions = class_models.predict(accurate)[0]\n",
                "        label = labels[predictions.argmax()]\n",
                "        coordinate = (arr[i][0] + int((arr[i][1]/2)),\n",
                "                      abs(arr[i][2] - 10))\n",
                "        i = + 1\n",
                "        cv2.putText(img, label, coordinate,\n",
                "                cv2.FONT_HERSHEY_SIMPLEX, fontScale=1, color=(255, 255, 0), thickness=2)\n",
                "cv2.imshow(\"Software Deteksi Wajah dan Emosi\",img)\n",
                "cv2.imwrite(\"contoh.jpg\",img)\n",
                "\n",
                "cv2.waitKey(0)\n",
                "cv2.destroyAllWindows()"
            ]
        },
        {
            "cell_type": "markdown",
            "metadata": {},
            "source": [
                "### Testing With Video Cam "
            ]
        },
        {
            "cell_type": "code",
            "execution_count": null,
            "metadata": {},
            "outputs": [],
            "source": [
                "screen = cv2.VideoCapture(0)\n",
                "\n",
                "# Looping Video Frame by Frame \n",
                "while True:\n",
                "    success,img = screen.read()\n",
                "    gray = cv2.cvtColor(img,cv2.COLOR_BGR2GRAY)\n",
                "    fde = class_face.detectMultiScale(gray, scaleFactor=1.3, minNeighbors=5)\n",
                "    randomfde = []\n",
                "    arr = []\n",
                "    \n",
                "# Draw Rectangle and Predict Emotion \n",
                "    for (x, y, w, h) in fde:\n",
                "        cv2.rectangle(img, (x, y), (x+w, y+h), (100, 0, 0), 2)\n",
                "        color_gray = gray[y:y+h, x:x+w]\n",
                "        color_gray = cv2.resize(color_gray, (48, 48), interpolation=cv2.INTER_AREA)\n",
                "        randomfde.append(color_gray)\n",
                "        arr.append((x, w, y, h))\n",
                "    i = 0\n",
                "    \n",
                "    for face in randomfde:\n",
                "        accurate = face.astype(\"float\") / 255.0\n",
                "        accurate = img_to_array(accurate)\n",
                "        accurate = np.expand_dims(accurate, axis=0)\n",
                "        predictions = class_models.predict(accurate)[0]\n",
                "        label = labels[predictions.argmax()]\n",
                "        coordinate = (arr[i][0] + int((arr[i][1]/2)),\n",
                "                      abs(arr[i][2] - 10))\n",
                "        i = + 1\n",
                "        cv2.putText(img, label, coordinate,\n",
                "                cv2.FONT_HERSHEY_SIMPLEX, fontScale=1, color=(255, 255, 0), thickness=2)\n",
                "    cv2.imshow(\"Software Deteksi Wajah dan Emosi\",img)\n",
                "\n",
                "# Exit Program\n",
                "    if cv2.waitKey(1) == ord('q'):  \n",
                "        break\n",
                "\n",
                "# Release Video and Destroy All Windows Opened by OpenCV \n",
                "screen.release()\n",
                "cv2.destroyAllWindows()\n"
            ]
        },
        {
            "cell_type": "code",
            "execution_count": 20,
            "metadata": {},
            "outputs": [],
            "source": [
                "screen.release()\n",
                "cv2.destroyAllWindows()"
            ]
        }
    ],
    "metadata": {
        "kernelspec": {
            "display_name": "Python 3",
            "language": "python",
            "name": "python3"
        },
        "language_info": {
            "codemirror_mode": {
                "name": "ipython",
                "version": 3
            },
            "file_extension": ".py",
            "mimetype": "text/x-python",
            "name": "python",
            "nbconvert_exporter": "python",
            "pygments_lexer": "ipython3",
            "version": "3.11.2"
        }
    },
    "nbformat": 4,
    "nbformat_minor": 2
}
